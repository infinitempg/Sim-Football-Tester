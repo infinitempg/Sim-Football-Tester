{
 "cells": [
  {
   "cell_type": "markdown",
   "metadata": {},
   "source": [
    "# Colorado Yeti Sim Tester\n",
    "*Made by infinitempg*"
   ]
  },
  {
   "cell_type": "markdown",
   "metadata": {},
   "source": [
    "For those unfamiliar with Jupyter Notebook, you need to press `Shift-Enter` in order to execute a cell. You can probably get away with just going to `Kernel -> Restart Kernel and Run All Cells`, but you should re-execute the widgets whenever you add a new folder to your directory."
   ]
  },
  {
   "cell_type": "code",
   "execution_count": 1,
   "metadata": {},
   "outputs": [],
   "source": [
    "from simFns import *\n",
    "from ipywidgets import interact, interactive, fixed, interact_manual\n",
    "import ipywidgets as widgets\n",
    "import warnings\n",
    "warnings.filterwarnings('ignore')"
   ]
  },
  {
   "cell_type": "markdown",
   "metadata": {},
   "source": [
    "Make sure your entire save file folders are located in the same directory (or a sub-directory) of where this tester is located! So for example, if you copied a folder named `W9` into this directory, you would type in `./W9/`. Make sure that there is a `/` at the end of the `path`.\n",
    "\n",
    "The `team` is the 2-3 letter acronym that can be found in the `Teams.csv` file in the `Output` folder of your save file."
   ]
  },
  {
   "cell_type": "code",
   "execution_count": 2,
   "metadata": {},
   "outputs": [
    {
     "name": "stdout",
     "output_type": "stream",
     "text": [
      "Loading Save File ./S18/W9/w8_nochanges...\n",
      "Initial Save File Loaded.\n",
      "\n",
      "Loading Player List for COL...\n",
      "Players Loaded.\n"
     ]
    }
   ],
   "source": [
    "path = './S18/W9/'\n",
    "saveFile = next(os.walk(path))[1][0]\n",
    "team = 'COL'\n",
    "pathList = [path]\n",
    "\n",
    "print('Loading Save File %s...'%(path+saveFile))\n",
    "testrun = readSave(path,saveFile)\n",
    "print('Initial Save File Loaded.')\n",
    "\n",
    "print('\\nLoading Player List for %s...'%team)\n",
    "DBPlayers = testrun['playerCSV'][testrun['playerCSV']['Team'] == team]\n",
    "DBPlayers['StatList'] = [statDic.get(n) for n in DBPlayers['Position']]\n",
    "DBPlayers['Name'] = [n['FirstName'] + ' ' + n['LastName'] for n in DBPlayers]\n",
    "DBPlayers.sort('Name')\n",
    "print('Players Loaded.')"
   ]
  },
  {
   "cell_type": "markdown",
   "metadata": {},
   "source": [
    "## Widgets\n",
    "\n",
    "These are the widgets for testing. They are run by the dropdowns located above the graphs! The graphs are binned using the [Freedman-Diaconis Rule](https://en.wikipedia.org/wiki/Freedman%E2%80%93Diaconis_rule) for stats where the range is large, and binned by units of 1 for small ranges. If there are multiple save files, you can compare two of them together."
   ]
  },
  {
   "cell_type": "markdown",
   "metadata": {},
   "source": [
    "This first widget is for team statistics and win percentages/point differentials.\n",
    "\n",
    "**Please note that these output Point Differentials and Win Percentages for the HOME team.** If you are the away team, make sure to adjust accordingly."
   ]
  },
  {
   "cell_type": "code",
   "execution_count": 3,
   "metadata": {},
   "outputs": [
    {
     "data": {
      "application/vnd.jupyter.widget-view+json": {
       "model_id": "e4eeb22f44494b3aa379044d5e8d9b57",
       "version_major": 2,
       "version_minor": 0
      },
      "text/plain": [
       "interactive(children=(Dropdown(description='path', options=('./S18/W9/',), value='./S18/W9/'), Dropdown(descri…"
      ]
     },
     "metadata": {},
     "output_type": "display_data"
    },
    {
     "data": {
      "text/plain": [
       "<function simFns.getGameStats(path, saveFile, stat, plot=False, second=False, path2=None, saveFile2=None)>"
      ]
     },
     "metadata": {},
     "output_type": "display_data"
    }
   ],
   "source": [
    "gameStatWidget = widgets.Dropdown(options = [n for n in testrun['gameCSV'].columns],value='PDiff')\n",
    "pathWidget = widgets.Dropdown(options=pathList)\n",
    "saveWidget = widgets.Dropdown(options=next(os.walk(path))[1])\n",
    "\n",
    "def updateSaves(*args):\n",
    "    saveWidget.options = next(os.walk(pathWidget.value))[1]\n",
    "\n",
    "if len(next(os.walk(path))[1]) >= 2:\n",
    "    pathWidget2 = widgets.Dropdown(options=pathList)\n",
    "    saveWidget2 = widgets.Dropdown(options=next(os.walk(path))[1],value=next(os.walk(path))[1][1])\n",
    "    \n",
    "    def updateSaves2(*args):\n",
    "        saveWidget2.options = next(os.walk(pathWidget2.value))[1]\n",
    "        \n",
    "    gameDisplay = interact(getGameStats,path=pathWidget,saveFile=saveWidget,plot=True,second=True,path2=pathWidget2,saveFile2=saveWidget2,stat=gameStatWidget)\n",
    "    pathWidget.observe(updateSaves,'value')\n",
    "    pathWidget2.observe(updateSaves2,'value')\n",
    "else:\n",
    "    print('No comparison file.')\n",
    "    pathWidget2 = widgets.Dropdown(options=pathList)\n",
    "    saveWidget2 = widgets.Dropdown(options=next(os.walk(path))[1],value=next(os.walk(path))[1][0])\n",
    "    gameDisplay = interact(getGameStats,path=pathWidget,saveFile=saveWidget,plot=True,second=fixed(False),path2=fixed(pathWidget2),saveFile2=fixed(saveWidget2),stat=gameStatWidget)\n",
    "    pathWidget.observe(updateSaves,'value')\n",
    "    \n",
    "display(gameDisplay)"
   ]
  },
  {
   "cell_type": "markdown",
   "metadata": {},
   "source": [
    "### Player \n",
    "\n",
    "This widget is for player statistics. It may take some time to load the position-specific statistics for each player."
   ]
  },
  {
   "cell_type": "code",
   "execution_count": 4,
   "metadata": {},
   "outputs": [
    {
     "data": {
      "application/vnd.jupyter.widget-view+json": {
       "model_id": "dfb89aa05ba040ea97c56db3469ad7b9",
       "version_major": 2,
       "version_minor": 0
      },
      "text/plain": [
       "interactive(children=(Dropdown(description='path', options=('./S18/W9/',), value='./S18/W9/'), Dropdown(descri…"
      ]
     },
     "metadata": {},
     "output_type": "display_data"
    },
    {
     "data": {
      "text/plain": [
       "<function simFns.getPlayerStats(path, saveFile, Name, stat, Team, plot=True, second=False, path2=None, saveFile2=None)>"
      ]
     },
     "metadata": {},
     "output_type": "display_data"
    }
   ],
   "source": [
    "nameWidget = widgets.Dropdown(options=[n for n in DBPlayers['Name']])\n",
    "playerstatWidget = widgets.Dropdown(options=[n for n in ALLstats])\n",
    "playerpathWidget = widgets.Dropdown(options=pathList)\n",
    "playersaveWidget = widgets.Dropdown(options=next(os.walk(path))[1])\n",
    "\n",
    "def playerupdateSaves(*args):\n",
    "    playersaveWidget.options = next(os.walk(playerpathWidget.value))[1]\n",
    "    \n",
    "def updateStats(*args):\n",
    "    playerstatWidget.options = DBPlayers[DBPlayers['Name'] == nameWidget.value]['StatList'].data[0]\n",
    "\n",
    "if len(next(os.walk(path))[1]) >= 2:\n",
    "    playerpathWidget2 = widgets.Dropdown(options=pathList)\n",
    "    playersaveWidget2 = widgets.Dropdown(options=next(os.walk(path))[1],value=next(os.walk(path))[1][1])\n",
    "   \n",
    "    def playerupdateSaves2(*args):\n",
    "        playersaveWidget2.options = next(os.walk(playerpathWidget2.value))[1]\n",
    "\n",
    "    playerDisplay = interact(getPlayerStats,path=playerpathWidget,saveFile=playersaveWidget,Name=nameWidget,stat=playerstatWidget,Team=fixed(team),plot=True,\n",
    "                             second=True,path2=playerpathWidget2,saveFile2=playersaveWidget2)\n",
    "\n",
    "    nameWidget.observe(updateStats,names='value')\n",
    "    playerpathWidget.observe(playerupdateSaves,'value')\n",
    "    playerpathWidget2.observe(updateSaves2,'value')\n",
    "\n",
    "else:\n",
    "    playerpathWidget2 = widgets.Dropdown(options=pathList)\n",
    "    playersaveWidget2 = widgets.Dropdown(options=next(os.walk(path))[1],value=next(os.walk(path))[1][0])\n",
    "   \n",
    "    def playerupdateSaves2(*args):\n",
    "        playersaveWidget2.options = next(os.walk(playerpathWidget2.value))[1]\n",
    "\n",
    "    playerDisplay = interact(getPlayerStats,path=playerpathWidget,saveFile=playersaveWidget,Name=nameWidget,stat=playerstatWidget,Team=fixed(team),plot=True,\n",
    "                             second=fixed(False),path2=fixed(playerpathWidget2),saveFile2=fixed(playersaveWidget2))\n",
    "\n",
    "    nameWidget.observe(updateStats,names='value')\n",
    "    playerpathWidget.observe(playerupdateSaves,'value')\n",
    "\n",
    "display(playerDisplay)"
   ]
  }
 ],
 "metadata": {
  "kernelspec": {
   "display_name": "Python 3",
   "language": "python",
   "name": "python3"
  },
  "language_info": {
   "codemirror_mode": {
    "name": "ipython",
    "version": 3
   },
   "file_extension": ".py",
   "mimetype": "text/x-python",
   "name": "python",
   "nbconvert_exporter": "python",
   "pygments_lexer": "ipython3",
   "version": "3.7.3"
  }
 },
 "nbformat": 4,
 "nbformat_minor": 2
}
